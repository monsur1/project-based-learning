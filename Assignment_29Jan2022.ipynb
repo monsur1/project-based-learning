{
  "nbformat": 4,
  "nbformat_minor": 0,
  "metadata": {
    "colab": {
      "name": "Assignment_29Jan2022.ipynb",
      "provenance": [],
      "collapsed_sections": [],
      "authorship_tag": "ABX9TyOENyN//FRK4OJPTkBg8rYa",
      "include_colab_link": true
    },
    "kernelspec": {
      "name": "python3",
      "display_name": "Python 3"
    },
    "language_info": {
      "name": "python"
    }
  },
  "cells": [
    {
      "cell_type": "markdown",
      "metadata": {
        "id": "view-in-github",
        "colab_type": "text"
      },
      "source": [
        "<a href=\"https://colab.research.google.com/github/monsur1/project-based-learning/blob/master/Assignment_29Jan2022.ipynb\" target=\"_parent\"><img src=\"https://colab.research.google.com/assets/colab-badge.svg\" alt=\"Open In Colab\"/></a>"
      ]
    },
    {
      "cell_type": "code",
      "execution_count": 5,
      "metadata": {
        "colab": {
          "base_uri": "https://localhost:8080/"
        },
        "id": "6EDYw9ho8jHF",
        "outputId": "658b79ec-785b-4e61-f4bd-c0497a773b89"
      },
      "outputs": [
        {
          "output_type": "stream",
          "name": "stdout",
          "text": [
            "Count of nodes is : 5\n"
          ]
        }
      ],
      "source": [
        "#Home Assignment 2\n",
        "#Write a code implementing a single linked list with regular insertion, deletion and print operations which can perform the following three functions:\n",
        "\n",
        "#1. Find the length of the linked list.\n",
        "\n",
        "# A complete working Python program to find length of a\n",
        "# Linked List iteratively\n",
        "\n",
        "# Node class\n",
        "class Node:\n",
        "\t# Function to initialise the node object\n",
        "\tdef __init__(self, data):\n",
        "\t\tself.data = data # Assign data\n",
        "\t\tself.next = None # Initialize next as null\n",
        "\n",
        "\n",
        "# Linked List class contains a Node object\n",
        "class LinkedList:\n",
        "\n",
        "\t# Function to initialize head\n",
        "\tdef __init__(self):\n",
        "\t\tself.head = None\n",
        "\n",
        "\n",
        "\t# This function is in LinkedList class. It inserts\n",
        "\t# a new node at the beginning of Linked List.\n",
        "\tdef push(self, new_data):\n",
        "\n",
        "\t\t# 1 & 2: Allocate the Node &\n",
        "\t\t#\t Put in the data\n",
        "\t\tnew_node = Node(new_data)\n",
        "\n",
        "\t\t# 3. Make next of new Node as head\n",
        "\t\tnew_node.next = self.head\n",
        "\n",
        "\t\t# 4. Move the head to point to new Node\n",
        "\t\tself.head = new_node\n",
        "\n",
        "\n",
        "\t# This function counts number of nodes in Linked List\n",
        "\t# iteratively, given 'node' as starting node.\n",
        "\tdef getCount(self):\n",
        "\t\ttemp = self.head # Initialise temp\n",
        "\t\tcount = 0 # Initialise count\n",
        "\n",
        "\t\t# Loop while end of linked list is not reached\n",
        "\t\twhile (temp):\n",
        "\t\t\tcount += 1\n",
        "\t\t\ttemp = temp.next\n",
        "\t\treturn count\n",
        "\n",
        "\n",
        "# Code execution starts here\n",
        "if __name__=='__main__':\n",
        "\tllist = LinkedList()\n",
        "\tllist.push(1)\n",
        "\tllist.push(3)\n",
        "\tllist.push(1)\n",
        "\tllist.push(2)\n",
        "\tllist.push(1)\n",
        "\tprint (\"Count of nodes is :\",llist.getCount())\n"
      ]
    },
    {
      "cell_type": "code",
      "source": [
        "#Home Assignment 2\n",
        "#Write a code implementing a single linked list with regular insertion, deletion and print operations which can perform the following three functions:\n",
        "#2. Find the middle element of the list.\n",
        "\n",
        "class Node:\n",
        "    def __init__(self, data):\n",
        "       self.data = data\n",
        "       self.next = None\n",
        " \n",
        " \n",
        "class LinkedList:\n",
        "    def __init__(self):\n",
        "        self.head = None\n",
        "        self.last_node = None\n",
        " \n",
        "    def append(self, data):\n",
        "        if self.last_node is None:\n",
        "            self.head = Node(data)\n",
        "            self.last_node = self.head\n",
        "        else:\n",
        "            self.last_node.next = Node(data)\n",
        "            self.last_node = self.last_node.next\n",
        " \n",
        " \n",
        "def print_middle(llist):\n",
        "    current = llist.head\n",
        "    length = 0\n",
        "    while current:\n",
        "        current = current.next\n",
        "        length = length + 1\n",
        " \n",
        "    current = llist.head\n",
        "    for i in range((length - 1)//2):\n",
        "        current = current.next\n",
        " \n",
        "    if current:\n",
        "        if length % 2 == 0:\n",
        "            print('The two middle elements are {} and {}.'\n",
        "                .format(current.data, current.next.data))\n",
        "        else:\n",
        "            print('The middle element is {}.'.format(current.data))\n",
        "    else:\n",
        "        print('The list is empty.')\n",
        " \n",
        " \n",
        "a_llist = LinkedList()\n",
        " \n",
        "data_list = input('Please enter the elements in the linked list: ').split()\n",
        "for data in data_list:\n",
        "    a_llist.append(int(data))\n",
        " \n",
        "print_middle(a_llist)\n"
      ],
      "metadata": {
        "colab": {
          "base_uri": "https://localhost:8080/"
        },
        "id": "EMWuz2Pm82H0",
        "outputId": "02ca1bab-2464-4454-8d49-fc8b06bdfd3c"
      },
      "execution_count": 3,
      "outputs": [
        {
          "output_type": "stream",
          "name": "stdout",
          "text": [
            "Please enter the elements in the linked list: 5 6 8 1 3 6\n",
            "The two middle elements are 8 and 1.\n"
          ]
        }
      ]
    },
    {
      "cell_type": "code",
      "source": [
        ""
      ],
      "metadata": {
        "id": "iA1Bcy3Q_SZv"
      },
      "execution_count": null,
      "outputs": []
    },
    {
      "cell_type": "code",
      "source": [
        "#Home Assignment 2\n",
        "#Write a code implementing a single linked list with regular insertion, deletion and print operations which can perform the following three functions:\n",
        "#3. Delete the last element and add it to the beginning.\n",
        "\n",
        "# A Linked List Node\n",
        "class Node:\n",
        "\tdef __init__(self, data=None, next=None):\n",
        "\t\tself.data = data\n",
        "\t\tself.next = next\n",
        "\n",
        "\n",
        "# Helper function to print a given linked list\n",
        "def printList(head):\n",
        "\n",
        "\tptr = head\n",
        "\twhile ptr:\n",
        "\t\tprint(ptr.data, end=' —> ')\n",
        "\t\tptr = ptr.next\n",
        "\tprint('None')\n",
        "\n",
        "\n",
        "# The opposite of `push()`. Takes a non-empty list, removes the front\n",
        "# node, and prints the data in that node.\n",
        "def pop(headRef):\n",
        "\n",
        "\t# underflow condition\n",
        "\tif headRef is None:\n",
        "\t\treturn None\n",
        "\n",
        "\tresult = headRef.data   \t# pull out data before the node is deleted\n",
        "\theadRef = headRef.next  \t# unlink the head node for the caller\n",
        "\n",
        "\tprint('The popped node is', result)\n",
        "\n",
        "\treturn headRef\n",
        "\n",
        "\n",
        "if __name__ == '__main__':\n",
        "\n",
        "\t# points to the head node of the linked list\n",
        "\thead = None\n",
        "\n",
        "\t# construct a linked list\n",
        "\tfor i in reversed(range(0, 8)):\n",
        "\t\thead = Node(i, head)\n",
        "\n",
        "\thead = pop(head)\n",
        "\n",
        "\t# print remaining linked list\n",
        "\tprintList(head)\n"
      ],
      "metadata": {
        "colab": {
          "base_uri": "https://localhost:8080/"
        },
        "id": "nbjmpkNp-AHC",
        "outputId": "8e7dd174-eec0-4fd5-ff52-2ec40107ac92"
      },
      "execution_count": 8,
      "outputs": [
        {
          "output_type": "stream",
          "name": "stdout",
          "text": [
            "The popped node is 0\n",
            "1 —> 2 —> 3 —> 4 —> 5 —> 6 —> 7 —> None\n"
          ]
        }
      ]
    },
    {
      "cell_type": "code",
      "source": [
        "# Click on Run Code button to see the result\n",
        "\n",
        "# node structure\n",
        "class Node:\n",
        "  def __init__(self, data):\n",
        "    self.data = data\n",
        "    self.next = None\n",
        "\n",
        "#class LinkedList\n",
        "class LinkedList:\n",
        "  def __init__(self):\n",
        "    self.head = None\n",
        "\n",
        "  #Add new element at the end of the list\n",
        "  def push_back(self, newElement):\n",
        "    newNode = Node(newElement)\n",
        "    if(self.head == None):\n",
        "      self.head = newNode\n",
        "      return\n",
        "    else:\n",
        "      temp = self.head\n",
        "      while(temp.next != None):\n",
        "        temp = temp.next\n",
        "      temp.next = newNode\n",
        "\n",
        "  #Delete last node of the list\n",
        "  def pop_back(self):\n",
        "    if(self.head != None):\n",
        "      if(self.head.next == None):\n",
        "        self.head = None\n",
        "      else:\n",
        "        temp = self.head\n",
        "        while(temp.next.next != None):\n",
        "          temp = temp.next\n",
        "        lastNode = temp.next\n",
        "        temp.next = None\n",
        "        lastNode = None\n",
        "\n",
        "  #display the content of the list\n",
        "  def PrintList(self):\n",
        "    temp = self.head\n",
        "    if(temp != None):\n",
        "      print(\"The list contains:\", end=\" \")\n",
        "      while (temp != None):\n",
        "        print(temp.data, end=\" \")\n",
        "        temp = temp.next\n",
        "      print()\n",
        "    else:\n",
        "      print(\"The list is empty.\")\n",
        "\n",
        "# test the code                 \n",
        "MyList = LinkedList()\n",
        "\n",
        "#Add four elements in the list.\n",
        "MyList.push_back(10)\n",
        "MyList.push_back(20)\n",
        "MyList.push_back(30)\n",
        "MyList.push_back(40)\n",
        "MyList.PrintList()\n",
        "\n",
        "#Delete the last node\n",
        "MyList.pop_back()\n",
        "MyList.PrintList()  \n",
        "\n",
        "# This function is in LinkedList class\n",
        "# Function to insert a new node at the beginning\n",
        "def push(MyList, new_data):\n",
        " \n",
        "    # 1 & 2: Allocate the Node &\n",
        "    #        Put in the data\n",
        "    new_node = Node(new_data)\n",
        "         \n",
        "    # 3. Make next of new Node as head\n",
        "    new_node.next = MyList.head\n",
        "         \n",
        "    # 4. Move the head to point to new Node\n",
        "    MyList.head = new_node\n",
        "    MyList.PrintList() \n"
      ],
      "metadata": {
        "colab": {
          "base_uri": "https://localhost:8080/"
        },
        "id": "P-puZvy9Fp9i",
        "outputId": "b3cf09a9-eb96-418c-83e6-896e035ba369"
      },
      "execution_count": 9,
      "outputs": [
        {
          "output_type": "stream",
          "name": "stdout",
          "text": [
            "The list contains: 10 20 30 40 \n",
            "The list contains: 10 20 30 \n"
          ]
        }
      ]
    },
    {
      "cell_type": "code",
      "source": [
        "# This function is in LinkedList class\n",
        "# Function to insert a new node at the beginning\n",
        "def push(self, new_data):\n",
        " \n",
        "    # 1 & 2: Allocate the Node &\n",
        "    #        Put in the data\n",
        "    new_node = Node(new_data)\n",
        "         \n",
        "    # 3. Make next of new Node as head\n",
        "    new_node.next = self.head\n",
        "         \n",
        "    # 4. Move the head to point to new Node\n",
        "    self.head = new_node"
      ],
      "metadata": {
        "id": "KrzUVZT7GPIR"
      },
      "execution_count": 10,
      "outputs": []
    }
  ]
}